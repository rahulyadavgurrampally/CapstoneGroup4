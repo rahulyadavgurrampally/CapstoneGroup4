{
  "cells": [
    {
      "cell_type": "code",
      "execution_count": 1,
      "metadata": {
        "id": "Y7Gb1C5i52_1"
      },
      "outputs": [],
      "source": [
        "import os\n",
        "import numpy as np\n",
        "import tensorflow as tf\n",
        "from tensorflow import keras\n",
        "from keras import layers\n",
        "from sklearn.model_selection import train_test_split\n",
        "from sklearn.metrics import confusion_matrix\n",
        "import matplotlib.pyplot as plt\n",
        "from keras import metrics"
      ]
    },
    {
      "cell_type": "code",
      "source": [
        "METRICS = [\n",
        "      metrics.TruePositives(name='tp'),\n",
        "      metrics.FalsePositives(name='fp'),\n",
        "      metrics.TrueNegatives(name='tn'),\n",
        "      metrics.FalseNegatives(name='fn'),\n",
        "      metrics.CategoricalAccuracy(name='accuracy'),\n",
        "      metrics.Precision(name='precision'),\n",
        "      metrics.Recall(name='recall'),\n",
        "      metrics.AUC(name='auc')\n",
        "]"
      ],
      "metadata": {
        "id": "0a0hISmyDKWm"
      },
      "execution_count": 2,
      "outputs": []
    },
    {
      "cell_type": "code",
      "source": [
        "# Set random seed for reproducibility\n",
        "tf.random.set_seed(20)"
      ],
      "metadata": {
        "id": "d9yO4ZBXDMp_"
      },
      "execution_count": 3,
      "outputs": []
    },
    {
      "cell_type": "code",
      "source": [
        "# Define the CNN model\n",
        "def create_model(input_shape):\n",
        "    model = keras.Sequential([\n",
        "        layers.Conv2D(128, (3, 3), activation='relu', input_shape=input_shape),\n",
        "        layers.MaxPooling2D((2, 2)),\n",
        "        layers.Conv2D(32, (3, 3), activation='relu'),\n",
        "        layers.MaxPooling2D((2, 2)),\n",
        "        layers.Flatten(),\n",
        "        layers.Dense(32, activation='relu'),\n",
        "        layers.Dense(4, activation='softmax')\n",
        "    ])\n",
        "    return model"
      ],
      "metadata": {
        "id": "OXKqpYCaDQxe"
      },
      "execution_count": 4,
      "outputs": []
    },
    {
      "cell_type": "code",
      "source": [
        "# Load and preprocess the dataset\n",
        "def load_dataset(input_path):\n",
        "    # Implement dataset loading and preprocessing logic here\n",
        "    # Assuming you have a function to load and preprocess your dataset\n",
        "    # and it returns the features and labels\n",
        "    # X, y = load_and_preprocess_dataset(input_path)\n",
        "    X = np.random.rand(100, 32, 32, 3)  # Example placeholder for features\n",
        "    y = np.random.randint(2, size=(100,))  # Example placeholder for labels\n",
        "    return X, y"
      ],
      "metadata": {
        "id": "Cr8PATn0DZZ1"
      },
      "execution_count": 5,
      "outputs": []
    },
    {
      "cell_type": "code",
      "source": [
        "from google.colab import drive\n",
        "drive.mount('/content/drive')"
      ],
      "metadata": {
        "colab": {
          "base_uri": "https://localhost:8080/"
        },
        "id": "d5RjCa0xDbUL",
        "outputId": "16ee779b-5a2f-4b42-b537-d6cb9fd7a15c"
      },
      "execution_count": 6,
      "outputs": [
        {
          "output_type": "stream",
          "name": "stdout",
          "text": [
            "Mounted at /content/drive\n"
          ]
        }
      ]
    },
    {
      "cell_type": "code",
      "source": [
        "# Set the input path to the dataset in Google Colab\n",
        "input_path = \"/content/drive/MyDrive/Capstone_Project/wheat_leaf\""
      ],
      "metadata": {
        "id": "yiNca4ExJNXm"
      },
      "execution_count": 7,
      "outputs": []
    },
    {
      "cell_type": "code",
      "source": [
        "# Load and preprocess the dataset\n",
        "x, y = load_dataset(input_path)"
      ],
      "metadata": {
        "id": "uyHnrTeUJjc6"
      },
      "execution_count": 8,
      "outputs": []
    },
    {
      "cell_type": "code",
      "source": [
        "# Split the dataset into training and validation sets\n",
        "X_train, X_val, y_train, y_val = train_test_split(x, y, test_size=0.2, random_state=10)"
      ],
      "metadata": {
        "id": "01BrZs3gJnP6"
      },
      "execution_count": 9,
      "outputs": []
    },
    {
      "cell_type": "code",
      "source": [
        "# Create the CNN model\n",
        "model = create_model(input_shape=X_train[0].shape)"
      ],
      "metadata": {
        "id": "QmMtCe7vJtYA"
      },
      "execution_count": 10,
      "outputs": []
    },
    {
      "cell_type": "code",
      "source": [
        "# Compile the model\n",
        "model.compile(optimizer='adam', loss='sparse_categorical_crossentropy', metrics=['accuracy'])"
      ],
      "metadata": {
        "id": "ASFgwEGcJuyb"
      },
      "execution_count": 11,
      "outputs": []
    },
    {
      "cell_type": "code",
      "source": [
        "# Train the model\n",
        "history = model.fit(X_train, y_train, epochs=20, batch_size=10, validation_data=(X_val, y_val))"
      ],
      "metadata": {
        "colab": {
          "base_uri": "https://localhost:8080/"
        },
        "id": "sUQW34nkJ5Qs",
        "outputId": "7648117b-f596-40a8-eb69-398cfd1ee8af"
      },
      "execution_count": 12,
      "outputs": [
        {
          "output_type": "stream",
          "name": "stdout",
          "text": [
            "Epoch 1/20\n",
            "8/8 [==============================] - 1s 51ms/step - loss: 1.0207 - accuracy: 0.5000 - val_loss: 0.7013 - val_accuracy: 0.5500\n",
            "Epoch 2/20\n",
            "8/8 [==============================] - 0s 29ms/step - loss: 0.7268 - accuracy: 0.5750 - val_loss: 0.6989 - val_accuracy: 0.5500\n",
            "Epoch 3/20\n",
            "8/8 [==============================] - 0s 25ms/step - loss: 0.6976 - accuracy: 0.4750 - val_loss: 0.7079 - val_accuracy: 0.5500\n",
            "Epoch 4/20\n",
            "8/8 [==============================] - 0s 24ms/step - loss: 0.7114 - accuracy: 0.5125 - val_loss: 0.7202 - val_accuracy: 0.4500\n",
            "Epoch 5/20\n",
            "8/8 [==============================] - 0s 24ms/step - loss: 0.6910 - accuracy: 0.5250 - val_loss: 0.6925 - val_accuracy: 0.5500\n",
            "Epoch 6/20\n",
            "8/8 [==============================] - 0s 25ms/step - loss: 0.6687 - accuracy: 0.6125 - val_loss: 0.6858 - val_accuracy: 0.5500\n",
            "Epoch 7/20\n",
            "8/8 [==============================] - 0s 23ms/step - loss: 0.6557 - accuracy: 0.7250 - val_loss: 0.6899 - val_accuracy: 0.5500\n",
            "Epoch 8/20\n",
            "8/8 [==============================] - 0s 27ms/step - loss: 0.6433 - accuracy: 0.5625 - val_loss: 0.6945 - val_accuracy: 0.5500\n",
            "Epoch 9/20\n",
            "8/8 [==============================] - 0s 25ms/step - loss: 0.6308 - accuracy: 0.8125 - val_loss: 0.6891 - val_accuracy: 0.6000\n",
            "Epoch 10/20\n",
            "8/8 [==============================] - 0s 29ms/step - loss: 0.6294 - accuracy: 0.6250 - val_loss: 0.6896 - val_accuracy: 0.5500\n",
            "Epoch 11/20\n",
            "8/8 [==============================] - 0s 28ms/step - loss: 0.6197 - accuracy: 0.8250 - val_loss: 0.6849 - val_accuracy: 0.5500\n",
            "Epoch 12/20\n",
            "8/8 [==============================] - 0s 29ms/step - loss: 0.5851 - accuracy: 0.7625 - val_loss: 0.6868 - val_accuracy: 0.5500\n",
            "Epoch 13/20\n",
            "8/8 [==============================] - 0s 26ms/step - loss: 0.5663 - accuracy: 0.7375 - val_loss: 0.6839 - val_accuracy: 0.5500\n",
            "Epoch 14/20\n",
            "8/8 [==============================] - 0s 39ms/step - loss: 0.5509 - accuracy: 1.0000 - val_loss: 0.6860 - val_accuracy: 0.5500\n",
            "Epoch 15/20\n",
            "8/8 [==============================] - 0s 38ms/step - loss: 0.5304 - accuracy: 0.6625 - val_loss: 0.6863 - val_accuracy: 0.5500\n",
            "Epoch 16/20\n",
            "8/8 [==============================] - 0s 27ms/step - loss: 0.5082 - accuracy: 0.9875 - val_loss: 0.6835 - val_accuracy: 0.5500\n",
            "Epoch 17/20\n",
            "8/8 [==============================] - 0s 23ms/step - loss: 0.4676 - accuracy: 0.9500 - val_loss: 0.6958 - val_accuracy: 0.5500\n",
            "Epoch 18/20\n",
            "8/8 [==============================] - 0s 31ms/step - loss: 0.4274 - accuracy: 0.9875 - val_loss: 0.6736 - val_accuracy: 0.5500\n",
            "Epoch 19/20\n",
            "8/8 [==============================] - 0s 25ms/step - loss: 0.3809 - accuracy: 1.0000 - val_loss: 0.6690 - val_accuracy: 0.5500\n",
            "Epoch 20/20\n",
            "8/8 [==============================] - 0s 29ms/step - loss: 0.3368 - accuracy: 1.0000 - val_loss: 0.6980 - val_accuracy: 0.5500\n"
          ]
        }
      ]
    },
    {
      "cell_type": "code",
      "source": [
        "# Evaluate the model\n",
        "_, accuracy = model.evaluate(X_val, y_val)\n",
        "print(\"Accuracy:\", accuracy*100)"
      ],
      "metadata": {
        "colab": {
          "base_uri": "https://localhost:8080/"
        },
        "id": "svmUHC8c1A0y",
        "outputId": "77c13433-f681-45e6-9982-3804d37aaa86"
      },
      "execution_count": 13,
      "outputs": [
        {
          "output_type": "stream",
          "name": "stdout",
          "text": [
            "1/1 [==============================] - 0s 130ms/step - loss: 0.6980 - accuracy: 0.5500\n",
            "Accuracy: 55.000001192092896\n"
          ]
        }
      ]
    }
  ],
  "metadata": {
    "colab": {
      "provenance": []
    },
    "kernelspec": {
      "display_name": "Python 3",
      "name": "python3"
    },
    "language_info": {
      "name": "python"
    }
  },
  "nbformat": 4,
  "nbformat_minor": 0
}